{
 "cells": [
  {
   "cell_type": "code",
   "execution_count": 10,
   "metadata": {},
   "outputs": [
    {
     "data": {
      "image/png": "[encoded data removed]",
      "text/plain": [
       "<matplotlib.figure.Figure at 0x2dd5450>"
      ]
     },
     "metadata": {},
     "output_type": "display_data"
    },
    {
     "name": "stdout",
     "output_type": "stream",
     "text": [
      "1000 [ 2.38690329] [-7.02968884] loss: 0.600216\n",
      "2000 [ 3.89096951] [-11.59830952] loss: 0.569248\n",
      "3000 [ 5.23103523] [-15.64813232] loss: 0.554414\n",
      "4000 [ 6.54647684] [-19.61327362] loss: 0.545271\n",
      "5000 [ 7.87836361] [-23.62090111] loss: 0.53898\n",
      "6000 [ 9.21405792] [-27.6347847] loss: 0.534454\n",
      "7000 [ 10.50539207] [-31.51147842] loss: 0.531167\n",
      "0.3 [  4.82468178e-13]\n",
      "-0.3 [  8.83096328e-16]\n",
      "3 [ 0.50117445]\n",
      "-3 [  4.24069022e-28]\n",
      "[ 10.50539207] [-31.51147842]\n"
     ]
    },
    {
     "data": {
      "image/png": "[encoded data removed]",
      "text/plain": [
       "<matplotlib.figure.Figure at 0x9b29090>"
      ]
     },
     "metadata": {},
     "output_type": "display_data"
    }
   ],
   "source": [
    "%matplotlib inline\n",
    "import numpy as np\n",
    "import tensorflow as tf\n",
    "import matplotlib.pyplot as plt\n",
    "import math\n",
    "\n",
    "#https://github.com/aymericdamien/TensorFlow-Examples/blob/master/examples/2_BasicModels/logistic_regression.py\n",
    "#cross entropy is equal to maximum likelihood\n",
    "learning_rate = 0.01\n",
    "batch_size = 500\n",
    "\n",
    "def sigmoid(z):\n",
    "    return 1./(1+tf.exp(-z))\n",
    "#endf \n",
    "\n",
    "x = tf.placeholder(tf.float32, shape=(None, 1))\n",
    "y_ = tf.placeholder(tf.float32, shape=(None, 1))\n",
    "#with tf.variable_scope()\n",
    "#w = tf.get_variable(name='w', shape=(1)) \n",
    "#b = tf.get_variable(name='b',shape=(1))\n",
    "W = tf.Variable(tf.random_normal([1], stddev=0.1))\n",
    "B = tf.Variable(tf.random_normal([1], stddev=0.1))\n",
    "y = sigmoid(x * W + B)\n",
    "\n",
    "#data\n",
    "size = 1000\n",
    "X = [np.float32(i) for i in np.random.normal(3, 1, size)]\n",
    "Y = [ 1. if m>3 else 0. for m in X ]\n",
    "plt.scatter(X, Y)\n",
    "plt.show()\n",
    "#Y = [ 1. if x>0 else 0. for x in X ] here x will overwrite the original x\n",
    "#print X, Y\n",
    "#X = tf.convert_to_tensor(X_, dtype=tf.float32)\n",
    "#Y = tf.convert_to_tensor(Y_, dtype=tf.float32)\n",
    "\n",
    "###### same as softmax with 2 dimension, but softmax got two values\n",
    "#loss = tf.reduce_mean(-tf.reduce_sum(y_*tf.log(y), reduction_indices=1)) ## wrong, no zero item\n",
    "#loss = tf.nn.sigmoid_cross_entropy_with_logits(labels=y_, logits=tf.clip_by_value(y,1e-8,1.0))\n",
    "###### you must add clip_by_value to clip which ensures getting rid of nan\n",
    "loss = tf.reduce_mean(-y_*tf.log(tf.clip_by_value(y, 1e-8,1.0)) -(1-y_)*tf.log(tf.clip_by_value(1-y, 1e-8,1.0)))\n",
    "\n",
    "optimizer = tf.train.AdamOptimizer(learning_rate).minimize(loss)\n",
    "\n",
    "with tf.Session() as sess:\n",
    "    init = tf.global_variables_initializer()\n",
    "    sess.run(init)\n",
    "    for i in xrange(7000):\n",
    "        start = (i*batch_size)%size\n",
    "        end = min(start+batch_size, size)\n",
    "        xin = np.array(X[start:end]).reshape(end-start, 1)\n",
    "        yin = np.array(Y[start:end]).reshape(end-start, 1)\n",
    "        #xtest = np.array(X[1]).reshape(end-start, 1)\n",
    "        #ytest = np.array(X[1]).reshape(end-start, 1)\n",
    "        \n",
    "        #print \"xin type\", type(xin)\n",
    "        sess.run(optimizer, feed_dict={x:xin, y_:yin})\n",
    "\n",
    "        if i%1000 == 999:\n",
    "            print i+1, sess.run(W), sess.run(B), \n",
    "            #print \"loss:\", sess.run(tf.reduce_mean(-tf.reduce_sum(y_*tf.log(y) + (1-y_)*tf.log(1-y))), feed_dict={x:xin, y_:yin})\n",
    "            loss = sess.run(tf.nn.sigmoid_cross_entropy_with_logits(labels=y_, logits=tf.clip_by_value(y,1e-8,1.0)), feed_dict={x:xin, y_:yin})\n",
    "            print \"loss:\", sess.run(tf.reduce_mean(loss)) \n",
    "            #print \"loss:\", sess.run(tf.reduce_mean(-tf.reduce_sum(y_*tf.log(y))), feed_dict={x:xin, y_:yin})\n",
    "\n",
    "    print 0.3, sess.run(sigmoid(0.3 * sess.run(W) + sess.run(B)))\n",
    "    print -0.3, sess.run(sigmoid(-0.3 * sess.run(W) + sess.run(B)))\n",
    "    print 3, sess.run(sigmoid(3 * sess.run(W) + sess.run(B)))\n",
    "    print -3, sess.run(sigmoid(-3 * sess.run(W) + sess.run(B)))\n",
    "    \n",
    "\n",
    "    p = np.linspace(-5, 5, 100)\n",
    "    w = np.float32(sess.run(W))\n",
    "    b = np.float32(sess.run(B))\n",
    "    print w, b\n",
    "    q = sess.run(sigmoid(p * w + b))\n",
    "    plt.plot(p, q)\n",
    "            "
   ]
  },
  {
   "cell_type": "code",
   "execution_count": null,
   "metadata": {},
   "outputs": [],
   "source": []
  },
  {
   "cell_type": "code",
   "execution_count": null,
   "metadata": {},
   "outputs": [],
   "source": []
  },
  {
   "cell_type": "code",
   "execution_count": null,
   "metadata": {},
   "outputs": [],
   "source": []
  },
  {
   "cell_type": "code",
   "execution_count": null,
   "metadata": {},
   "outputs": [],
   "source": []
  }
 ],
 "metadata": {
  "kernelspec": {
   "display_name": "Python 2",
   "language": "python",
   "name": "python2"
  },
  "language_info": {
   "codemirror_mode": {
    "name": "ipython",
    "version": 2
   },
   "file_extension": ".py",
   "mimetype": "text/x-python",
   "name": "python",
   "nbconvert_exporter": "python",
   "pygments_lexer": "ipython2",
   "version": "2.7.5"
  }
 },
 "nbformat": 4,
 "nbformat_minor": 2
}
