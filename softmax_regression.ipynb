{
 "cells": [
  {
   "cell_type": "code",
   "execution_count": 38,
   "metadata": {},
   "outputs": [],
   "source": [
    "%matplotlib inline\n",
    "import tensorflow as tf\n",
    "import matplotlib.pyplot as plt\n",
    "\n",
    "learning_rate = 0.1\n",
    "batch_size = 100\n",
    "\n",
    "x = tf.placeholder(tf.float32, shape=(None, 28*28))\n",
    "y_= tf.placeholder(tf.float32, shape=(None, 10))\n",
    "\n",
    "w = tf.Variable(tf.random_normal([784, 10], stddev=0.1), dtype=tf.float32)\n",
    "b = tf.Variable(tf.random_normal([10], stddev=0.1), dtype=tf.float32)\n",
    "\n",
    "y = tf.nn.softmax(tf.matmul(x, w) + b)\n",
    "\n",
    "loss = tf.reduce_mean(-tf.reduce_sum(y_ * tf.log(tf.clip_by_value(y, 1e-8, 1.0))))\n",
    "#loss = tf.softmax_cross_entropy_with_logits(labels=y_, logits=tf.clip_by_value(y, 1e-8, 1.0))\n",
    "optimizer = tf.train.AdamOptimizer(learning_rate).minimize(loss)\n"
   ]
  },
  {
   "cell_type": "code",
   "execution_count": 8,
   "metadata": {},
   "outputs": [
    {
     "name": "stdout",
     "output_type": "stream",
     "text": [
      "Extracting /tmp/data/train-images-idx3-ubyte.gz\n",
      "Extracting /tmp/data/train-labels-idx1-ubyte.gz\n",
      "Extracting /tmp/data/t10k-images-idx3-ubyte.gz\n",
      "Extracting /tmp/data/t10k-labels-idx1-ubyte.gz\n"
     ]
    }
   ],
   "source": [
    "##data\n",
    "from tensorflow.examples.tutorials.mnist import input_data\n",
    "from tensorflow.examples.tutorials import mnist\n",
    "mnist = input_data.read_data_sets(\"/tmp/data/\", one_hot=True)"
   ]
  },
  {
   "cell_type": "code",
   "execution_count": null,
   "metadata": {},
   "outputs": [
    {
     "name": "stdout",
     "output_type": "stream",
     "text": [
      "1000 56.5328\n",
      "2000 88.4538\n",
      "3000 126.942\n",
      "4000 42.7034\n",
      "5000 94.4955\n",
      "6000 90.3488\n",
      "7000 86.9361\n",
      "8000 89.7911\n"
     ]
    }
   ],
   "source": [
    "with tf.Session() as sess:\n",
    "    init = tf.global_variables_initializer()\n",
    "    sess.run(init)\n",
    "    total_batch = int(mnist.train.num_examples/batch_size)    \n",
    "    for epoch in range(10000):\n",
    "        xs, ys = mnist.train.next_batch(batch_size)\n",
    "        #print(xs.shape, ys.shape)\n",
    "        sess.run(optimizer, feed_dict={x:xs, y_:ys})\n",
    "        if epoch %1000 == 999:\n",
    "            print epoch+1, sess.run(loss, feed_dict={x:xs, y_:ys})\n",
    "\n",
    "            \n",
    "             # Test model\n",
    "    correct_prediction = tf.equal(tf.argmax(y, 1), tf.argmax(y_, 1))\n",
    "    # Calculate accuracy for 3000 examples\n",
    "    accuracy = tf.reduce_mean(tf.cast(correct_prediction, tf.float32))\n",
    "    print \"Accuracy:\", accuracy.eval({x: mnist.test.images[:3000], y_: mnist.test.labels[:3000]})\n",
    "    \n",
    "    \n",
    "    #correct_prediction = tf.equal(tf.argmax(y, 1), tf.argmax(y_, 1))\n",
    "    #accuracy = tf.reduce_mean(tf.cast(correct_prediction, tf.float32))\n",
    "    #print accuracy.eval({x: mnist.test.images[:3000], y: mnist.test.labels[:3000]})"
   ]
  },
  {
   "cell_type": "code",
   "execution_count": null,
   "metadata": {},
   "outputs": [],
   "source": []
  }
 ],
 "metadata": {
  "kernelspec": {
   "display_name": "Python 2",
   "language": "python",
   "name": "python2"
  },
  "language_info": {
   "codemirror_mode": {
    "name": "ipython",
    "version": 2
   },
   "file_extension": ".py",
   "mimetype": "text/x-python",
   "name": "python",
   "nbconvert_exporter": "python",
   "pygments_lexer": "ipython2",
   "version": "2.7.5"
  }
 },
 "nbformat": 4,
 "nbformat_minor": 2
}
