{
 "cells": [
  {
   "cell_type": "code",
   "execution_count": 12,
   "metadata": {},
   "outputs": [
    {
     "data": {
      "image/png": "[encoded data removed]",
      "text/plain": [
       "<matplotlib.figure.Figure at 0x8ff0ed0>"
      ]
     },
     "metadata": {},
     "output_type": "display_data"
    },
    {
     "name": "stdout",
     "output_type": "stream",
     "text": [
      "(1000, 0.53739035)\n",
      "(2000, 0.56739128)\n",
      "(3000, 0.53805405)\n",
      "(4000, 0.54853714)\n",
      "(5000, 0.52982038)\n",
      "(6000, 0.57019776)\n",
      "(7000, 0.54120064)\n",
      "(8000, 0.52980065)\n",
      "(9000, 0.56778741)\n",
      "(10000, 0.53032255)\n",
      "X: [[ 4.3775835 ]\n",
      " [ 5.50739193]\n",
      " [ 2.97093725]\n",
      " [ 3.94020581]\n",
      " [ 3.30920434]\n",
      " [ 1.87958407]\n",
      " [ 2.27029061]\n",
      " [ 2.49734306]\n",
      " [ 4.11851883]\n",
      " [ 3.57543063]]\n",
      "Y: [[ 0.99997926]\n",
      " [ 0.99997926]\n",
      " [ 0.        ]\n",
      " [ 0.99997926]\n",
      " [ 0.99997926]\n",
      " [ 0.        ]\n",
      " [ 0.        ]\n",
      " [ 0.        ]\n",
      " [ 0.99997926]\n",
      " [ 0.99997926]]\n"
     ]
    }
   ],
   "source": [
    "%matplotlib inline\n",
    "import tensorflow as tf\n",
    "import numpy as np\n",
    "import matplotlib.pyplot as plt\n",
    "\n",
    "batch_size = 100\n",
    "learning_rate = 0.1\n",
    "\n",
    "\n",
    "x = tf.placeholder(tf.float32, shape=(None, 1))\n",
    "y_ = tf.placeholder(tf.float32, shape=(None, 1))\n",
    "\n",
    "#\"\"\"\n",
    "w1 = tf.Variable(tf.random_normal([1, 3], stddev=0.1))\n",
    "b1 = tf.Variable(tf.random_normal([3], stddev=0.1))\n",
    "w2 = tf.Variable(tf.random_normal([3, 2], stddev=0.1))\n",
    "b2 = tf.Variable(tf.random_normal([2], stddev=0.1))\n",
    "w3 = tf.Variable(tf.random_normal([2, 1], stddev=0.1))\n",
    "b3 = tf.Variable(tf.random_normal([1], stddev=0.1))\n",
    "\n",
    "\n",
    "L1 = tf.nn.relu(tf.matmul(x, w1) + b1)\n",
    "L2 = tf.nn.relu(tf.matmul(L1, w2) + b2)\n",
    "y = tf.nn.sigmoid(tf.matmul(L2, w3) + b3)\n",
    "\"\"\"\n",
    "\n",
    "w = tf.Variable(tf.random_normal([1], stddev=0.1))\n",
    "b = tf.Variable(tf.random_normal([1], stddev=0.1))\n",
    "y = tf.nn.sigmoid(x*w + b)\n",
    "\"\"\"\n",
    "loss = tf.nn.sigmoid_cross_entropy_with_logits(labels=y_, logits=tf.clip_by_value(y, 1e-8, 1.0))\n",
    "optimizer = tf.train.AdamOptimizer(learning_rate).minimize(loss)\n",
    "\n",
    "##data\n",
    "size = 10000\n",
    "X = [np.float32(i) for i in np.random.normal(3, 1, size)]\n",
    "Y = [ 1. if m>3 else 0. for m in X ]\n",
    "plt.scatter(X, Y)\n",
    "plt.show()\n",
    "X = np.array(X).reshape(size, 1)\n",
    "Y = np.array(Y).reshape(size, 1)\n",
    "\n",
    "\n",
    "with tf.Session() as sess:\n",
    "    init = tf.global_variables_initializer()\n",
    "    sess.run(init)\n",
    "    for epoch in range(10000):\n",
    "        start = (epoch*batch_size)%size\n",
    "        end = min(start+batch_size, size)\n",
    "        #print start, end\n",
    "        sess.run(optimizer, feed_dict={x:X[start:end], y_:Y[start:end]})\n",
    "        \n",
    "        if epoch%1000 == 999:\n",
    "            print(epoch+1, sess.run(tf.reduce_mean(loss), feed_dict={x:X[start:end], y_:Y[start:end]}))\n",
    "    print \"X:\", X[0:10]\n",
    "    print \"Y:\", sess.run(y, feed_dict={x:X[0:10]}) \n",
    "    \"\"\"\n",
    "    p = np.linspace(-5, 5, 100)\n",
    "    W = np.float32(sess.run(w))\n",
    "    B = np.float32(sess.run(b))\n",
    "    q = sess.run(tf.nn.sigmoid(p * W + B))\n",
    "    plt.plot(p, q)\n",
    "    \"\"\""
   ]
  },
  {
   "cell_type": "code",
   "execution_count": null,
   "metadata": {},
   "outputs": [],
   "source": []
  },
  {
   "cell_type": "code",
   "execution_count": null,
   "metadata": {},
   "outputs": [],
   "source": []
  }
 ],
 "metadata": {
  "kernelspec": {
   "display_name": "Python 3",
   "language": "python",
   "name": "python3"
  },
  "language_info": {
   "codemirror_mode": {
    "name": "ipython",
    "version": 3
   },
   "file_extension": ".py",
   "mimetype": "text/x-python",
   "name": "python",
   "nbconvert_exporter": "python",
   "pygments_lexer": "ipython3",
   "version": "3.5.2"
  }
 },
 "nbformat": 4,
 "nbformat_minor": 2
}
